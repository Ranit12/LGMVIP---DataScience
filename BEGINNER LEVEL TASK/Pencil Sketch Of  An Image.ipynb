{
 "cells": [
  {
   "cell_type": "markdown",
   "id": "fd1a95af",
   "metadata": {},
   "source": [
    "# Data Science Intern at Let's Grow More LGMVIP April,23\n",
    "\n",
    "# Beginner Level Task\n",
    "\n",
    "# Pencil Sketch Of  An Image\n",
    "\n",
    "# Ranit Mukherjee"
   ]
  },
  {
   "cell_type": "markdown",
   "id": "35eece74",
   "metadata": {},
   "source": [
    "- installing the required library"
   ]
  },
  {
   "cell_type": "code",
   "execution_count": 1,
   "id": "1ce95f7a",
   "metadata": {},
   "outputs": [
    {
     "name": "stdout",
     "output_type": "stream",
     "text": [
      "Requirement already satisfied: opencv-python in c:\\users\\ranit mukherjee\\anaconda3\\lib\\site-packages (4.7.0.72)\n",
      "Requirement already satisfied: numpy>=1.19.3 in c:\\users\\ranit mukherjee\\anaconda3\\lib\\site-packages (from opencv-python) (1.21.5)\n"
     ]
    }
   ],
   "source": [
    "!pip install opencv-python"
   ]
  },
  {
   "cell_type": "markdown",
   "id": "08691ff4",
   "metadata": {},
   "source": [
    "- importing the library cv2"
   ]
  },
  {
   "cell_type": "code",
   "execution_count": 2,
   "id": "30e8334b",
   "metadata": {},
   "outputs": [],
   "source": [
    "import cv2"
   ]
  },
  {
   "cell_type": "markdown",
   "id": "bf4a2fe4",
   "metadata": {},
   "source": [
    "- reading the original image"
   ]
  },
  {
   "cell_type": "code",
   "execution_count": 3,
   "id": "4aff49f7",
   "metadata": {},
   "outputs": [],
   "source": [
    "image = cv2.imread(\"C:\\\\Users\\\\RANIT MUKHERJEE\\\\OneDrive\\\\Desktop\\\\Datasets\\\\bird_image.jpg\")\n"
   ]
  },
  {
   "cell_type": "markdown",
   "id": "85d756ec",
   "metadata": {},
   "source": [
    "- showing the original image"
   ]
  },
  {
   "cell_type": "code",
   "execution_count": 4,
   "id": "768ad0f3",
   "metadata": {},
   "outputs": [
    {
     "data": {
      "text/plain": [
       "-1"
      ]
     },
     "execution_count": 4,
     "metadata": {},
     "output_type": "execute_result"
    }
   ],
   "source": [
    "cv2.imshow(\"Bird Image\",image)\n",
    "cv2.waitKey(0)"
   ]
  },
  {
   "cell_type": "markdown",
   "id": "e72b532e",
   "metadata": {},
   "source": [
    "- converting the original image into a grayscale image"
   ]
  },
  {
   "cell_type": "code",
   "execution_count": 5,
   "id": "73e747ba",
   "metadata": {},
   "outputs": [
    {
     "data": {
      "text/plain": [
       "-1"
      ]
     },
     "execution_count": 5,
     "metadata": {},
     "output_type": "execute_result"
    }
   ],
   "source": [
    "gray_image = cv2.cvtColor(image,cv2.COLOR_BGR2GRAY)\n",
    "cv2.imshow(\"Bird Image In Gray\",gray_image)\n",
    "cv2.waitKey(0)"
   ]
  },
  {
   "cell_type": "markdown",
   "id": "b7c67283",
   "metadata": {},
   "source": [
    "- inverting the grayscale image"
   ]
  },
  {
   "cell_type": "code",
   "execution_count": 6,
   "id": "be88c933",
   "metadata": {},
   "outputs": [
    {
     "data": {
      "text/plain": [
       "-1"
      ]
     },
     "execution_count": 6,
     "metadata": {},
     "output_type": "execute_result"
    }
   ],
   "source": [
    "inverted_image = 255 - gray_image\n",
    "cv2.imshow(\"Inverted Image\",inverted_image)\n",
    "cv2.waitKey(0)"
   ]
  },
  {
   "cell_type": "markdown",
   "id": "1b908d9b",
   "metadata": {},
   "source": [
    "- making a blur image of te grayscale image"
   ]
  },
  {
   "cell_type": "code",
   "execution_count": 7,
   "id": "df5863ad",
   "metadata": {},
   "outputs": [
    {
     "data": {
      "text/plain": [
       "-1"
      ]
     },
     "execution_count": 7,
     "metadata": {},
     "output_type": "execute_result"
    }
   ],
   "source": [
    "blurred_image = cv2.GaussianBlur(inverted_image, (21,21), 0)\n",
    "cv2.imshow(\"Blurred Image\", blurred_image)\n",
    "cv2.waitKey(0)"
   ]
  },
  {
   "cell_type": "markdown",
   "id": "912b8c29",
   "metadata": {},
   "source": [
    "- inverting the blurred image"
   ]
  },
  {
   "cell_type": "code",
   "execution_count": 8,
   "id": "36091da4",
   "metadata": {},
   "outputs": [
    {
     "data": {
      "text/plain": [
       "-1"
      ]
     },
     "execution_count": 8,
     "metadata": {},
     "output_type": "execute_result"
    }
   ],
   "source": [
    "inverted_blurred_image = 255 - blurred_image\n",
    "cv2.imshow(\"Inverted Blurred Image\",inverted_blurred_image)\n",
    "cv2.waitKey(0)"
   ]
  },
  {
   "cell_type": "markdown",
   "id": "8c95bb36",
   "metadata": {},
   "source": [
    "- finally creating the pencil sketch image"
   ]
  },
  {
   "cell_type": "code",
   "execution_count": 9,
   "id": "a4ef7e5f",
   "metadata": {},
   "outputs": [
    {
     "data": {
      "text/plain": [
       "-1"
      ]
     },
     "execution_count": 9,
     "metadata": {},
     "output_type": "execute_result"
    }
   ],
   "source": [
    "pencil_sketch_image = cv2.divide(gray_image,inverted_blurred_image,scale = 256.0)\n",
    "cv2.imshow(\"Sketch Image\", pencil_sketch_image)\n",
    "cv2.waitKey(0)"
   ]
  },
  {
   "cell_type": "markdown",
   "id": "d6f339b5",
   "metadata": {},
   "source": [
    "- showing the original and the sketch image simultaneously"
   ]
  },
  {
   "cell_type": "code",
   "execution_count": 10,
   "id": "1c66abf6",
   "metadata": {},
   "outputs": [
    {
     "data": {
      "text/plain": [
       "-1"
      ]
     },
     "execution_count": 10,
     "metadata": {},
     "output_type": "execute_result"
    }
   ],
   "source": [
    "cv2.imshow(\"Original Image\", image)\n",
    "cv2.imshow(\"Pencil Sketch Image\", pencil_sketch_image)\n",
    "cv2.waitKey(0)"
   ]
  }
 ],
 "metadata": {
  "kernelspec": {
   "display_name": "Python 3 (ipykernel)",
   "language": "python",
   "name": "python3"
  },
  "language_info": {
   "codemirror_mode": {
    "name": "ipython",
    "version": 3
   },
   "file_extension": ".py",
   "mimetype": "text/x-python",
   "name": "python",
   "nbconvert_exporter": "python",
   "pygments_lexer": "ipython3",
   "version": "3.9.12"
  }
 },
 "nbformat": 4,
 "nbformat_minor": 5
}
